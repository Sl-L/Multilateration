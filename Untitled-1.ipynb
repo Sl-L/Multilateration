{
 "cells": [
  {
   "cell_type": "code",
   "execution_count": 1,
   "id": "527d1e07",
   "metadata": {},
   "outputs": [],
   "source": [
    "import numpy as np\n",
    "from scipy.optimize import least_squares"
   ]
  },
  {
   "cell_type": "code",
   "execution_count": 2,
   "id": "be5133bd",
   "metadata": {},
   "outputs": [],
   "source": [
    "def residuals(p, anchors, distances):\n",
    "    x, y = p\n",
    "    return np.sqrt((x - anchors[:, 0])**2 + (y - anchors[:, 1])**2) - distances\n",
    "\n",
    "# anchors: np.array of shape (n, 2)\n",
    "# distances: np.array of shape (n,)\n",
    "anchors = np.array([[-11.04,   8.85], [ 12.61,  10.72], [-13.70, -11.80], [ -2.12,  28.28]])\n",
    "distances = np.array([9.81, 15.82, 25.05, 19.84])\n",
    "\n",
    "initial_guess = np.array([-2, -10])"
   ]
  },
  {
   "cell_type": "code",
   "execution_count": 5,
   "id": "d830bc31",
   "metadata": {},
   "outputs": [
    {
     "data": {
      "text/plain": [
       "{'x': array([-1.93748001,  9.19936115]),\n",
       " 'cost': np.float64(1.7260419338742283),\n",
       " 'fun': array([-0.70077811, -1.1932602 , -0.98072404, -0.7584882 ]),\n",
       " 'jac': array([[ 0.99926429,  0.03835247],\n",
       "        [-0.99458114, -0.10396293],\n",
       "        [ 0.48869434,  0.87245505],\n",
       "        [ 0.00956527, -0.99995424]]),\n",
       " 'grad': array([ 2.12090081e-06, -5.89446986e-06]),\n",
       " 'optimality': np.float64(5.894469856881912e-06),\n",
       " 'active_mask': array([0, 0]),\n",
       " 'nfev': 9,\n",
       " 'njev': None,\n",
       " 'status': 2,\n",
       " 'message': '`ftol` termination condition is satisfied.',\n",
       " 'success': True}"
      ]
     },
     "execution_count": 5,
     "metadata": {},
     "output_type": "execute_result"
    }
   ],
   "source": [
    "result = least_squares(residuals, initial_guess, args=(anchors, distances), method='lm')\n",
    "\n",
    "estimated_position = result.x\n",
    "dict(result)"
   ]
  }
 ],
 "metadata": {
  "kernelspec": {
   "display_name": "Python 3",
   "language": "python",
   "name": "python3"
  },
  "language_info": {
   "codemirror_mode": {
    "name": "ipython",
    "version": 3
   },
   "file_extension": ".py",
   "mimetype": "text/x-python",
   "name": "python",
   "nbconvert_exporter": "python",
   "pygments_lexer": "ipython3",
   "version": "3.13.3"
  }
 },
 "nbformat": 4,
 "nbformat_minor": 5
}
